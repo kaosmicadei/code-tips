{
 "metadata": {
  "language_info": {
   "codemirror_mode": {
    "name": "ipython",
    "version": 3
   },
   "file_extension": ".py",
   "mimetype": "text/x-python",
   "name": "python",
   "nbconvert_exporter": "python",
   "pygments_lexer": "ipython3",
   "version": "3.8.3-final"
  },
  "orig_nbformat": 2,
  "kernelspec": {
   "name": "python3",
   "display_name": "Python 3.8.3 64-bit",
   "metadata": {
    "interpreter": {
     "hash": "082e9a3bcad0a290d0001e938aa60b99250c6c2ef33a923c00b70f9826caf4b7"
    }
   }
  }
 },
 "nbformat": 4,
 "nbformat_minor": 2,
 "cells": [
  {
   "cell_type": "code",
   "execution_count": 88,
   "metadata": {},
   "outputs": [],
   "source": [
    "text = \"mapreduce is a programming model and an associated implementation for processing and generating big data sets with a parallel distributed algorithm on a cluster a mapreduce program is composed of a map procedure which performs filtering and sorting such as sorting students by first name into queues one queue for each name and a reduce method which performs a summary operation such as counting the number of students in each queue yielding name frequencies the mapreduce system also called infrastructure or framework orchestrates the processing by marshalling the distributed servers running the various tasks in parallel managing all communications and data transfers between the various parts of the system and providing for redundancy and fault tolerance the model is a specialization of the splitapplycombine strategy for data analysis it is inspired by the map and reduce functions commonly used in functional programming although their purpose in the mapreduce framework is not the same as in their original forms the key contributions of the mapreduce framework are not the actual map and reduce functions which for example resemble the message passing interface standard's reduce and scatter operations but the scalability and faulttolerance achieved for a variety of applications by optimizing the execution engine[citation needed] as such a singlethreaded implementation of mapreduce is usually not faster than a traditional nonmapreduce implementation any gains are usually only seen with multithreaded implementations on multiprocessor hardware the use of this model is beneficial only when the optimized distributed shuffle operation which reduces network communication cost and fault tolerance features of the mapreduce framework come into play optimizing the communication cost is essential to a good mapreduce algorithm mapreduce libraries have been written in many programming languages with different levels of optimization a popular opensource implementation that has support for distributed shuffles is part of apache hadoop the name mapreduce originally referred to the proprietary google technology but has since been genericized by google was no longer using mapreduce as their primary big data processing model and development on apache mahout had moved on to more capable and less diskoriented mechanisms that incorporated full map and reduce capabilities\""
   ]
  },
  {
   "cell_type": "code",
   "execution_count": 89,
   "metadata": {},
   "outputs": [],
   "source": [
    "collection = {}"
   ]
  },
  {
   "cell_type": "code",
   "execution_count": 90,
   "metadata": {},
   "outputs": [],
   "source": [
    "def emit(key, value):\n",
    "    collection.setdefault(key, []).append(value)"
   ]
  },
  {
   "cell_type": "code",
   "execution_count": 91,
   "metadata": {},
   "outputs": [],
   "source": [
    "# Map phase\n",
    "for word in text.split():\n",
    "    key = word[0]\n",
    "    emit(key, word)"
   ]
  },
  {
   "cell_type": "code",
   "execution_count": 92,
   "metadata": {},
   "outputs": [
    {
     "output_type": "execute_result",
     "data": {
      "text/plain": [
       "['is',\n",
       " 'implementation',\n",
       " 'is',\n",
       " 'into',\n",
       " 'in',\n",
       " 'infrastructure',\n",
       " 'in',\n",
       " 'is',\n",
       " 'it',\n",
       " 'is',\n",
       " 'inspired',\n",
       " 'in',\n",
       " 'in',\n",
       " 'is',\n",
       " 'in',\n",
       " 'interface',\n",
       " 'implementation',\n",
       " 'is',\n",
       " 'implementation',\n",
       " 'implementations',\n",
       " 'is',\n",
       " 'into',\n",
       " 'is',\n",
       " 'in',\n",
       " 'implementation',\n",
       " 'is',\n",
       " 'incorporated']"
      ]
     },
     "metadata": {},
     "execution_count": 92
    }
   ],
   "source": [
    "collection['i']"
   ]
  },
  {
   "cell_type": "code",
   "execution_count": 93,
   "metadata": {},
   "outputs": [],
   "source": [
    "# Reduce phase\n",
    "for key, value in collection.items():\n",
    "    collection[key] = list(set(value))"
   ]
  },
  {
   "cell_type": "code",
   "execution_count": 94,
   "metadata": {},
   "outputs": [
    {
     "output_type": "execute_result",
     "data": {
      "text/plain": [
       "['incorporated',\n",
       " 'into',\n",
       " 'is',\n",
       " 'in',\n",
       " 'implementation',\n",
       " 'infrastructure',\n",
       " 'interface',\n",
       " 'inspired',\n",
       " 'it',\n",
       " 'implementations']"
      ]
     },
     "metadata": {},
     "execution_count": 94
    }
   ],
   "source": [
    "collection['i']"
   ]
  },
  {
   "cell_type": "code",
   "execution_count": 95,
   "metadata": {},
   "outputs": [],
   "source": [
    "# Rereduce phase\n",
    "for key, value in collection.items():\n",
    "    s = sum(map(len, value))\n",
    "    collection[key] = round(s / len(value))"
   ]
  },
  {
   "cell_type": "code",
   "execution_count": 96,
   "metadata": {},
   "outputs": [
    {
     "output_type": "stream",
     "name": "stdout",
     "text": [
      "a => 6\nb => 5\nc => 9\nd => 9\ne => 9\nf => 8\ng => 7\nh => 5\ni => 8\nj => 0\nk => 3\nl => 7\nm => 8\nn => 6\no => 7\np => 8\nq => 6\nr => 8\ns => 8\nt => 6\nu => 5\nv => 7\nw => 5\nx => 0\ny => 8\n"
     ]
    }
   ],
   "source": [
    "for c in range(ord('a'), ord('z')):\n",
    "    c = chr(c)\n",
    "    val = collection.get(c, 0)\n",
    "    print('{} => {}'.format(c, val))"
   ]
  },
  {
   "cell_type": "code",
   "execution_count": null,
   "metadata": {},
   "outputs": [],
   "source": []
  }
 ]
}