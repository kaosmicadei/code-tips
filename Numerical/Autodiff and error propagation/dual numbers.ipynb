{
 "metadata": {
  "language_info": {
   "codemirror_mode": {
    "name": "ipython",
    "version": 3
   },
   "file_extension": ".py",
   "mimetype": "text/x-python",
   "name": "python",
   "nbconvert_exporter": "python",
   "pygments_lexer": "ipython3",
   "version": 3
  },
  "orig_nbformat": 2,
  "kernelspec": {
   "name": "julia-1.5",
   "display_name": "Julia 1.5.3",
   "language": "julia"
  }
 },
 "nbformat": 4,
 "nbformat_minor": 2,
 "cells": [
  {
   "source": [
    "# Dual numbers\n",
    "\n",
    "## definition\n",
    "Like imaginary numbers, a dual number is pair of real numbers with the defined constant $\\epsilon$ such that $\\epsilon^2 = 0$. So, $\\forall a,b \\in \\mathbb{R}$,\n",
    "$$(a+b\\epsilon)(a-b\\epsilon) = a^2$$\n",
    "and\n",
    "$$(a+b\\epsilon)^n = a^n + na^{n-1}b\\epsilon$$\n",
    "where the second property can be easily proved by induction,\n",
    "$$\n",
    "\\begin{aligned}\n",
    "(a+b\\epsilon)^{n+1}\n",
    "&=\n",
    "(a+b\\epsilon) (a+b\\epsilon)^n\n",
    "\\\\&=\n",
    "(a+b\\epsilon) \\left(a^n + na^{n-1}b\\epsilon\\right)\n",
    "\\\\&=\n",
    "a^{n+1} + na^n b\\epsilon + a^nb\\epsilon\n",
    "\\\\&=\n",
    "a^{n+1} + (n+1)a^n b\\epsilon .\n",
    "\\end{aligned}\n",
    "$$\n",
    "\n",
    "Considering $P(x) = \\sum_n a_n x^n$, then\n",
    "$$\n",
    "\\begin{aligned}\n",
    "P(x+h\\epsilon) \n",
    "&=\n",
    "\\sum_n a_n (x+h\\epsilon)^n\n",
    "\\\\&=\n",
    "\\sum_n a_n x^n + \\sum_n n a_n x^{n-1} h\\epsilon\n",
    "\\\\&=\n",
    "P(x) + P'(x)h\\epsilon .\n",
    "\\end{aligned}\n",
    "$$\n",
    "So, for any analytical function $f$,\n",
    "$$f(x+h\\epsilon) = f(x) + f'(x)h\\epsilon.$$\n",
    "\n",
    "Let $f$ and $g$ be two analytical functions, the arithmetic operations plus the function composition of $f$ and $g$ applied to a dual number correspond to all the derivative rules including the chain rule,\n",
    "$$\n",
    "\\begin{aligned}\n",
    "f(x+h\\epsilon) \\pm g(x+h\\epsilon) \n",
    "&= f(x) + f'(x)h\\epsilon \\pm g(x) \\pm g'(x)h\\epsilon\n",
    "\\\\&= \\left( f(x) \\pm g(x) \\right) + \\left( f'(x) \\pm g'(x) \\right)h\\epsilon ,\n",
    "\\\\[1em]\n",
    "f(x+h\\epsilon) \\times g(x+h\\epsilon) \n",
    "&= \\left( f(x) + f'(x)h\\epsilon \\right) \\times \\left( g(x) \\pm g'(x)h\\epsilon \\right)\n",
    "\\\\&= f(x)g(x) + \\left( f'(x)g(x) + f(x)g'(x) \\right)h\\epsilon ,\n",
    "\\\\[1em]\n",
    "\\frac{f(x+h\\epsilon)}{g(x+h\\epsilon)}\n",
    "&= \\frac{f(x+h\\epsilon)}{g(x+h\\epsilon)} \\times \\frac{g(x-h\\epsilon)}{g(x-h\\epsilon)}\n",
    "\\\\&= \\frac{f(x)g(x) + \\left( f'(x)g(x) - f(x)g'(x) \\right)h\\epsilon}{g(x)^2}\n",
    "\\\\&= \\frac{f(x)}{g(x)} + \\frac{f'(x)g(x) - f(x)g'(x)}{g(x)^2}h\\epsilon ,\n",
    "\\\\[1em]\n",
    "f(g(x+h\\epsilon))\n",
    "&= f(g(x) + g'(x)h\\epsilon)\n",
    "\\\\&= f(g(x)) + f'(g(x)) g'(x) h\\epsilon .\n",
    "\\end{aligned}\n",
    "$$\n",
    "\n",
    "## implementing dual numbers in julia\n",
    "We first start with a structure to associate $f$ and $f'$."
   ],
   "cell_type": "markdown",
   "metadata": {}
  },
  {
   "cell_type": "code",
   "execution_count": 1,
   "metadata": {},
   "outputs": [],
   "source": [
    "struct Dual <: Number\n",
    "    x::Real\n",
    "    dx::Real\n",
    "end"
   ]
  },
  {
   "source": [
    "Next, we define how to convert a variable $x$ into a dual number."
   ],
   "cell_type": "markdown",
   "metadata": {}
  },
  {
   "cell_type": "code",
   "execution_count": 2,
   "metadata": {},
   "outputs": [],
   "source": [
    "Dual(x) = Dual(x, one(x));"
   ]
  },
  {
   "source": [
    "Then we define how to convert constant numbers into dual numbers."
   ],
   "cell_type": "markdown",
   "metadata": {}
  },
  {
   "cell_type": "code",
   "execution_count": 3,
   "metadata": {},
   "outputs": [],
   "source": [
    "Base.convert(::Type{Dual}, x::Real) = Dual(x, zero(x))"
   ]
  },
  {
   "source": [
    "And how to typecast any real number into a dual number."
   ],
   "cell_type": "markdown",
   "metadata": {}
  },
  {
   "cell_type": "code",
   "execution_count": 4,
   "metadata": {},
   "outputs": [],
   "source": [
    "Base.promote_rule(::Type{Dual}, ::Type{<:Real}) = Dual"
   ]
  },
  {
   "source": [
    "The next step is define the arithmetic properties."
   ],
   "cell_type": "markdown",
   "metadata": {}
  },
  {
   "cell_type": "code",
   "execution_count": 5,
   "metadata": {},
   "outputs": [],
   "source": [
    "Base.:+(f::Dual, g::Dual) = Dual(f.x + g.x, f.dx + g.dx)\n",
    "Base.:-(f::Dual, g::Dual) = Dual(f.x - g.x, f.dx - g.dx)\n",
    "Base.:*(f::Dual, g::Dual) = Dual(f.x * g.x, f.dx * g.x + f.x * g.dx)\n",
    "Base.:/(f::Dual, g::Dual) = Dual(f.x / g.x, (f.dx * g.x - f.x * g.dx) / g.x^2)"
   ]
  },
  {
   "source": [
    "To make things easy we can define the constant $\\epsilon$."
   ],
   "cell_type": "markdown",
   "metadata": {}
  },
  {
   "cell_type": "code",
   "execution_count": 6,
   "metadata": {},
   "outputs": [
    {
     "output_type": "execute_result",
     "data": {
      "text/plain": [
       "Dual(0, 0)"
      ]
     },
     "metadata": {},
     "execution_count": 6
    }
   ],
   "source": [
    "const ϵ = Dual(0,1)\n",
    "ϵ^2"
   ]
  },
  {
   "source": [
    "We can make it more visual by define a print format."
   ],
   "cell_type": "markdown",
   "metadata": {}
  },
  {
   "cell_type": "code",
   "execution_count": 7,
   "metadata": {},
   "outputs": [
    {
     "output_type": "execute_result",
     "data": {
      "text/plain": [
       "0 + 0ϵ"
      ]
     },
     "metadata": {},
     "execution_count": 7
    }
   ],
   "source": [
    "Base.show(io::IO, f::Dual) = print(io, \"$(f.x) + $(f.dx)ϵ\")\n",
    "\n",
    "ϵ^2"
   ]
  },
  {
   "cell_type": "code",
   "execution_count": null,
   "metadata": {},
   "outputs": [],
   "source": []
  },
  {
   "source": [
    "Now, let's define how to use some standard functions with dual numbers. Thanks to the multiple dispatch we can add more functions to this list later."
   ],
   "cell_type": "markdown",
   "metadata": {}
  },
  {
   "cell_type": "code",
   "execution_count": 8,
   "metadata": {},
   "outputs": [],
   "source": [
    "Base.sin(f::Dual) = sin(f.x) + cos(f.x) * f.dx * ϵ\n",
    "Base.cos(f::Dual) = cos(f.x) - sin(f.x) * f.dx * ϵ\n",
    "Base.exp(f::Dual) = exp(f.x) + exp(f.x) * f.dx * ϵ\n",
    "Base.log(f::Dual) = log(f.x) + f.dx / f.x * ϵ\n",
    "Base.sqrt(f::Dual) = sqrt(f.x) + f.dx / sqrt(f.x) * ϵ"
   ]
  },
  {
   "cell_type": "code",
   "execution_count": 9,
   "metadata": {},
   "outputs": [
    {
     "output_type": "execute_result",
     "data": {
      "text/plain": [
       "16.353083249392316 + 8.83594211490989ϵ"
      ]
     },
     "metadata": {},
     "execution_count": 9
    }
   ],
   "source": [
    "f(x) = x^2 + 2x - cos(sqrt(x))\n",
    "f(Dual(π))"
   ]
  },
  {
   "source": [
    "## Automatic differentiation for many variables\n",
    "\n",
    "$$\n",
    "f(x + h \\epsilon_1, y + k \\epsilon_2) = f(x,y) +\\partial_x f(x,y) h \\epsilon_1 + \\partial_y f(x,y) k \\epsilon_2\n",
    "$$\n",
    "where $\\epsilon_1 \\epsilon_2 = \\epsilon_1^2 = \\epsilon_2^2 = 0$.\n",
    "\n",
    "$$\n",
    "f(\\vec{x}) \\mapsto f(\\vec{x}) + \\nabla f(\\vec{x})\n",
    "$$\n",
    "where $\\odot$ inidicates elementwise multiplication."
   ],
   "cell_type": "markdown",
   "metadata": {}
  },
  {
   "source": [
    "struct DualN <: Number\n",
    "    val::Real\n",
    "    grad::Vector{Real}\n",
    "end"
   ],
   "cell_type": "code",
   "metadata": {},
   "execution_count": null,
   "outputs": []
  },
  {
   "cell_type": "code",
   "execution_count": 11,
   "metadata": {},
   "outputs": [],
   "source": [
    "using LinearAlgebra: I, Matrix\n",
    "\n",
    "function DualN(vars::Vector{<:Real})\n",
    "    l = length(vars)\n",
    "    id = Matrix(I, l, l)\n",
    "    map(1:l) do j\n",
    "        DualN(vars[j], id[:,j])\n",
    "    end\n",
    "end;"
   ]
  },
  {
   "cell_type": "code",
   "execution_count": 12,
   "metadata": {},
   "outputs": [],
   "source": [
    "Base.convert(::Type{DualN}, x::Real) = DualN(x, [zero(x)])\n",
    "Base.promote_rule(::Type{DualN}, ::Type{<:Real}) = DualN"
   ]
  },
  {
   "cell_type": "code",
   "execution_count": 13,
   "metadata": {},
   "outputs": [],
   "source": [
    "Base.:+(f::DualN, g::DualN) = DualN(f.val + g.val, f.grad .+ g.grad)\n",
    "Base.:-(f::DualN, g::DualN) = DualN(f.val - g.val, f.grad .- g.grad)\n",
    "Base.:*(f::DualN, g::DualN) = DualN(f.val * g.val, f.grad .* g.val .+ f.val * g.grad)\n",
    "Base.:/(f::DualN, g::DualN) = DualN(f.val / g.val, (f.grad .* g.val .- f.val .* g.grad) ./ g.val^2)"
   ]
  },
  {
   "cell_type": "code",
   "execution_count": 14,
   "metadata": {},
   "outputs": [
    {
     "output_type": "execute_result",
     "data": {
      "text/plain": [
       "DualN(0, Real[-2, -2])"
      ]
     },
     "metadata": {},
     "execution_count": 14
    }
   ],
   "source": [
    "f(x,y) = x^2 - y^2\n",
    "\n",
    "f(DualN([-1,1])...)"
   ]
  },
  {
   "cell_type": "code",
   "execution_count": 15,
   "metadata": {},
   "outputs": [
    {
     "output_type": "execute_result",
     "data": {
      "text/plain": [
       "entropy (generic function with 1 method)"
      ]
     },
     "metadata": {},
     "execution_count": 15
    }
   ],
   "source": [
    "entropy(λ) = -λ'log.(λ)"
   ]
  },
  {
   "cell_type": "code",
   "execution_count": 16,
   "metadata": {},
   "outputs": [],
   "source": [
    "Base.:-(f::DualN) = 0 - f\n",
    "Base.log(f::DualN) = DualN(log(f.val), f.grad ./ f.val)\n",
    "Base.conj(f::DualN) = DualN(conj(f.val), conj.(f.grad))"
   ]
  },
  {
   "cell_type": "code",
   "execution_count": 17,
   "metadata": {},
   "outputs": [
    {
     "output_type": "execute_result",
     "data": {
      "text/plain": [
       "DualN(0.8486855577264172, Real[-0.5945348918918356, 0.5040773967762742, 1.1972245773362196])"
      ]
     },
     "metadata": {},
     "execution_count": 17
    }
   ],
   "source": [
    "entropy(DualN([2/3, 2/9, 1/9]))"
   ]
  },
  {
   "cell_type": "code",
   "execution_count": 18,
   "metadata": {},
   "outputs": [],
   "source": [
    "Base.sqrt(f::DualN) = DualN(sqrt(f.val), f.grad ./ sqrt(f.val))"
   ]
  },
  {
   "cell_type": "code",
   "execution_count": 19,
   "metadata": {},
   "outputs": [
    {
     "output_type": "execute_result",
     "data": {
      "text/plain": [
       "uncert (generic function with 1 method)"
      ]
     },
     "metadata": {},
     "execution_count": 19
    }
   ],
   "source": [
    "uncert(f::DualN, σ::Vector{<:Real}) = (val = f.val, err = √sum((f.grad .* σ).^2))"
   ]
  },
  {
   "cell_type": "code",
   "execution_count": 20,
   "metadata": {},
   "outputs": [
    {
     "output_type": "execute_result",
     "data": {
      "text/plain": [
       "(val = 0.8486855577264172, err = 0.12793392864918046)"
      ]
     },
     "metadata": {},
     "execution_count": 20
    }
   ],
   "source": [
    "p = [2/3, 2/9, 1/9]\n",
    "σ = [0.1, 0.12, 0.08]\n",
    "s = entropy(DualN(p))\n",
    "uncert(s, σ)"
   ]
  }
 ]
}