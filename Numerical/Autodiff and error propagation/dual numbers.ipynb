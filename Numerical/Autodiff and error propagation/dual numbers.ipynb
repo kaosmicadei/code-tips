{
 "cells": [
  {
   "cell_type": "markdown",
   "metadata": {},
   "source": [
    "# Dual numbers\n",
    "\n",
    "## definition\n",
    "Like imaginary numbers, a dual number is pair of real numbers with the defined constant $\\epsilon$ such that $\\epsilon^2 = 0$. So, $\\forall a,b \\in \\mathbb{R}$,\n",
    "$$(a+b\\epsilon)(a-b\\epsilon) = a^2$$\n",
    "and\n",
    "$$(a+b\\epsilon)^n = a^n + na^{n-1}b\\epsilon$$\n",
    "where the second property can be easily proved by induction,\n",
    "$$\n",
    "\\begin{aligned}\n",
    "(a+b\\epsilon)^{n+1}\n",
    "&=\n",
    "(a+b\\epsilon) (a+b\\epsilon)^n\n",
    "\\\\&=\n",
    "(a+b\\epsilon) \\left(a^n + na^{n-1}b\\epsilon\\right)\n",
    "\\\\&=\n",
    "a^{n+1} + na^n b\\epsilon + a^nb\\epsilon\n",
    "\\\\&=\n",
    "a^{n+1} + (n+1)a^n b\\epsilon .\n",
    "\\end{aligned}\n",
    "$$\n",
    "\n",
    "Considering $P(x) = \\sum_n a_n x^n$, then\n",
    "$$\n",
    "\\begin{aligned}\n",
    "P(x+h\\epsilon) \n",
    "&=\n",
    "\\sum_n a_n (x+h\\epsilon)^n\n",
    "\\\\&=\n",
    "\\sum_n a_n x^n + \\sum_n n a_n x^{n-1} h\\epsilon\n",
    "\\\\&=\n",
    "P(x) + P'(x)h\\epsilon .\n",
    "\\end{aligned}\n",
    "$$\n",
    "So, for any analytical function $f$,\n",
    "$$f(x+h\\epsilon) = f(x) + f'(x)h\\epsilon.$$\n",
    "\n",
    "Let $f$ and $g$ be two analytical functions, the arithmetic operations plus the function composition of $f$ and $g$ applied to a dual number correspond to all the derivative rules including the chain rule,\n",
    "$$\n",
    "\\begin{aligned}\n",
    "f(x+h\\epsilon) \\pm g(x+h\\epsilon) \n",
    "&= f(x) + f'(x)h\\epsilon \\pm g(x) \\pm g'(x)h\\epsilon\n",
    "\\\\&= \\left( f(x) \\pm g(x) \\right) + \\left( f'(x) \\pm g'(x) \\right)h\\epsilon ,\n",
    "\\\\[1em]\n",
    "f(x+h\\epsilon) \\times g(x+h\\epsilon) \n",
    "&= \\left( f(x) + f'(x)h\\epsilon \\right) \\times \\left( g(x) \\pm g'(x)h\\epsilon \\right)\n",
    "\\\\&= f(x)g(x) + \\left( f'(x)g(x) + f(x)g'(x) \\right)h\\epsilon ,\n",
    "\\\\[1em]\n",
    "\\frac{f(x+h\\epsilon)}{g(x+h\\epsilon)}\n",
    "&= \\frac{f(x+h\\epsilon)}{g(x+h\\epsilon)} \\times \\frac{g(x-h\\epsilon)}{g(x-h\\epsilon)}\n",
    "\\\\&= \\frac{f(x)g(x) + \\left( f'(x)g(x) - f(x)g'(x) \\right)h\\epsilon}{g(x)^2}\n",
    "\\\\&= \\frac{f(x)}{g(x)} + \\frac{f'(x)g(x) - f(x)g'(x)}{g(x)^2}h\\epsilon ,\n",
    "\\\\[1em]\n",
    "f(g(x+h\\epsilon))\n",
    "&= f(g(x) + g'(x)h\\epsilon)\n",
    "\\\\&= f(g(x)) + f'(g(x)) g'(x) h\\epsilon .\n",
    "\\end{aligned}\n",
    "$$\n",
    "\n",
    "## implementing dual numbers in julia\n",
    "We first start with a structure to associate $f$ and $f'$."
   ]
  },
  {
   "cell_type": "code",
   "execution_count": 1,
   "metadata": {},
   "outputs": [],
   "source": [
    "struct Dual <: Number\n",
    "    x::Real\n",
    "    dx::Real\n",
    "end"
   ]
  },
  {
   "cell_type": "markdown",
   "metadata": {},
   "source": [
    "Next, we define how to convert a variable $x$ into a dual number."
   ]
  },
  {
   "cell_type": "code",
   "execution_count": 2,
   "metadata": {},
   "outputs": [],
   "source": [
    "Dual(x) = Dual(x, one(x));"
   ]
  },
  {
   "cell_type": "markdown",
   "metadata": {},
   "source": [
    "Then we define how to convert constant numbers into dual numbers."
   ]
  },
  {
   "cell_type": "code",
   "execution_count": 3,
   "metadata": {},
   "outputs": [],
   "source": [
    "Base.convert(::Type{Dual}, x::Real) = Dual(x, zero(x))"
   ]
  },
  {
   "cell_type": "markdown",
   "metadata": {},
   "source": [
    "And how to typecast any real number into a dual number."
   ]
  },
  {
   "cell_type": "code",
   "execution_count": 4,
   "metadata": {},
   "outputs": [],
   "source": [
    "Base.promote_rule(::Type{Dual}, ::Type{<:Real}) = Dual"
   ]
  },
  {
   "cell_type": "markdown",
   "metadata": {},
   "source": [
    "The next step is define the arithmetic properties."
   ]
  },
  {
   "cell_type": "code",
   "execution_count": 5,
   "metadata": {},
   "outputs": [],
   "source": [
    "Base.:+(f::Dual, g::Dual) = Dual(f.x + g.x, f.dx + g.dx)\n",
    "Base.:-(f::Dual, g::Dual) = Dual(f.x - g.x, f.dx - g.dx)\n",
    "Base.:*(f::Dual, g::Dual) = Dual(f.x * g.x, f.dx * g.x + f.x * g.dx)\n",
    "Base.:/(f::Dual, g::Dual) = Dual(f.x / g.x, (f.dx * g.x - f.x * g.dx) / g.x^2)\n",
    "# also the negative of a dual number\n",
    "Base.:-(f::Dual) = Dual(-f.val, -f.dx)"
   ]
  },
  {
   "cell_type": "markdown",
   "metadata": {},
   "source": [
    "To make things easy we can define the constant $\\epsilon$."
   ]
  },
  {
   "cell_type": "code",
   "execution_count": 6,
   "metadata": {},
   "outputs": [
    {
     "data": {
      "text/plain": [
       "Dual(0, 0)"
      ]
     },
     "execution_count": 6,
     "metadata": {},
     "output_type": "execute_result"
    }
   ],
   "source": [
    "const ϵ = Dual(0,1)\n",
    "ϵ^2"
   ]
  },
  {
   "cell_type": "markdown",
   "metadata": {},
   "source": [
    "We can make it more visual by define a print format."
   ]
  },
  {
   "cell_type": "code",
   "execution_count": 7,
   "metadata": {},
   "outputs": [
    {
     "data": {
      "text/plain": [
       "0 + 0ϵ"
      ]
     },
     "execution_count": 7,
     "metadata": {},
     "output_type": "execute_result"
    }
   ],
   "source": [
    "Base.show(io::IO, f::Dual) = print(io, \"$(f.x) + $(f.dx)ϵ\")\n",
    "ϵ^2"
   ]
  },
  {
   "cell_type": "markdown",
   "metadata": {},
   "source": [
    "Now, let's define how to use some standard functions with dual numbers. Thanks to the multiple dispatch we can add more functions to this list later."
   ]
  },
  {
   "cell_type": "code",
   "execution_count": 8,
   "metadata": {},
   "outputs": [],
   "source": [
    "Base.sin(f::Dual) = sin(f.x) + cos(f.x) * f.dx * ϵ\n",
    "Base.cos(f::Dual) = cos(f.x) - sin(f.x) * f.dx * ϵ\n",
    "Base.exp(f::Dual) = exp(f.x) + exp(f.x) * f.dx * ϵ\n",
    "Base.log(f::Dual) = log(f.x) + f.dx / f.x * ϵ\n",
    "Base.sqrt(f::Dual) = sqrt(f.x) + f.dx / sqrt(f.x) * ϵ"
   ]
  },
  {
   "cell_type": "code",
   "execution_count": 9,
   "metadata": {},
   "outputs": [
    {
     "data": {
      "text/plain": [
       "16.353083249392316 + 8.83594211490989ϵ"
      ]
     },
     "execution_count": 9,
     "metadata": {},
     "output_type": "execute_result"
    }
   ],
   "source": [
    "f(x) = x^2 + 2x - cos(sqrt(x))\n",
    "f(Dual(π))"
   ]
  },
  {
   "cell_type": "markdown",
   "metadata": {},
   "source": [
    "## Automatic differentiation for many variables\n",
    "The next natural step is define how functions with two or more variables handle with dual numbers.\n",
    "\n",
    "Starting by taking $f:\\mathbb{R}^2 \\to \\mathbb{R}$,\n",
    "$$\n",
    "f(x + h_x \\epsilon_1, y + h_y \\epsilon_2) = f(x,y) +\\partial_x f(x,y) h_x \\epsilon_1 + \\partial_y f(x,y) h_y \\epsilon_2\n",
    "$$\n",
    "where $\\epsilon_1 \\epsilon_2 = \\epsilon_1^2 = \\epsilon_2^2 = 0$, we could say the variables are\n",
    "$$\n",
    "\\begin{aligned}\n",
    "x + h_x \\epsilon_1 &= x + \\begin{pmatrix}h_x & 0\\end{pmatrix}\n",
    "\\\\\n",
    "y + h_y \\epsilon_2 &= y + \\begin{pmatrix}0 & h_y\\end{pmatrix}\n",
    "\\end{aligned}\n",
    "$$\n",
    "so we could rewrite the previous expression as\n",
    "$$\n",
    "\\begin{aligned}\n",
    "f(x + h_x \\epsilon_1, y + h_y \\epsilon_2) &= \n",
    "f(x,y) + \\begin{pmatrix}\\partial_xf(x,y)h_x & \\partial_yf(x,y)h_y\\end{pmatrix} \\\\&=\n",
    "f(x,y) + \\nabla f(x,y) .\n",
    "\\end{aligned}\n",
    "$$\n",
    "\n",
    "## implementing a multivariate dual number in julia\n",
    "We start by define"
   ]
  },
  {
   "cell_type": "code",
   "execution_count": 10,
   "metadata": {},
   "outputs": [],
   "source": [
    "struct DualN <: Number\n",
    "    val::Real\n",
    "    grad::Vector{Real}\n",
    "end"
   ]
  },
  {
   "cell_type": "markdown",
   "metadata": {},
   "source": [
    "Next we define a constructor that takes $N$, $(x_1,x_2,x_3\\dots)$ and a vector of $N$ dual numbers\n",
    "$$\n",
    "\\begin{pmatrix}\n",
    "x_1 + \\epsilon_1\\\\\n",
    "x_2 + \\epsilon_2\\\\\n",
    "x_3 + \\epsilon_3\\\\\n",
    "\\vdots\n",
    "\\end{pmatrix}\n",
    "$$ "
   ]
  },
  {
   "cell_type": "code",
   "execution_count": 11,
   "metadata": {},
   "outputs": [],
   "source": [
    "using LinearAlgebra: I, Matrix\n",
    "\n",
    "function DualN(vars::Vector{<:Real})\n",
    "    l = length(vars)\n",
    "    id = Matrix(I, l, l)\n",
    "    map(1:l) do j\n",
    "        DualN(vars[j], id[:,j])\n",
    "    end\n",
    "end;"
   ]
  },
  {
   "cell_type": "markdown",
   "metadata": {},
   "source": [
    "Once again we need to be able to convert constants into dual numbers."
   ]
  },
  {
   "cell_type": "code",
   "execution_count": 12,
   "metadata": {},
   "outputs": [],
   "source": [
    "Base.convert(::Type{DualN}, x::Real) = DualN(x, [zero(x)])\n",
    "Base.promote_rule(::Type{DualN}, ::Type{<:Real}) = DualN"
   ]
  },
  {
   "cell_type": "markdown",
   "metadata": {},
   "source": [
    "And then we define the arithmetic operations."
   ]
  },
  {
   "cell_type": "code",
   "execution_count": 13,
   "metadata": {},
   "outputs": [],
   "source": [
    "Base.:+(f::DualN, g::DualN) = DualN(f.val + g.val, f.grad .+ g.grad)\n",
    "Base.:-(f::DualN, g::DualN) = DualN(f.val - g.val, f.grad .- g.grad)\n",
    "Base.:*(f::DualN, g::DualN) = DualN(f.val * g.val, f.grad .* g.val .+ f.val * g.grad)\n",
    "Base.:/(f::DualN, g::DualN) = DualN(f.val / g.val, (f.grad .* g.val .- f.val .* g.grad) ./ g.val^2)\n",
    "# also the negative of a dual number\n",
    "Base.:-(f::DualN) = DualN(-f.val, -f.grad)"
   ]
  },
  {
   "cell_type": "markdown",
   "metadata": {},
   "source": [
    "First let's try a $\\mathbb{R}^2 \\to \\mathbb{R}$."
   ]
  },
  {
   "cell_type": "code",
   "execution_count": 14,
   "metadata": {},
   "outputs": [
    {
     "data": {
      "text/plain": [
       "DualN(0, Real[-2, -2])"
      ]
     },
     "execution_count": 14,
     "metadata": {},
     "output_type": "execute_result"
    }
   ],
   "source": [
    "f(x,y) = x^2 - y^2\n",
    "\n",
    "f(DualN([-1,1])...)"
   ]
  },
  {
   "cell_type": "markdown",
   "metadata": {},
   "source": [
    "Next let's try a function that takes a vector as input."
   ]
  },
  {
   "cell_type": "code",
   "execution_count": 15,
   "metadata": {},
   "outputs": [
    {
     "data": {
      "text/plain": [
       "entropy (generic function with 1 method)"
      ]
     },
     "execution_count": 15,
     "metadata": {},
     "output_type": "execute_result"
    }
   ],
   "source": [
    "entropy(λ) = -λ'log.(λ)"
   ]
  },
  {
   "cell_type": "markdown",
   "metadata": {},
   "source": [
    "In order to be able to use the funcion `entropy` with dual numbers we need to extend the functions `log` and `conj` since in julia the operation `A'A` is equiavlent to $A^\\dagger A$."
   ]
  },
  {
   "cell_type": "code",
   "execution_count": 16,
   "metadata": {},
   "outputs": [],
   "source": [
    "Base.log(f::DualN) = DualN(log(f.val), f.grad ./ f.val)\n",
    "Base.conj(f::DualN) = f"
   ]
  },
  {
   "cell_type": "code",
   "execution_count": 17,
   "metadata": {},
   "outputs": [
    {
     "data": {
      "text/plain": [
       "DualN(0.8486855577264172, Real[-0.5945348918918356, 0.5040773967762742, 1.1972245773362196])"
      ]
     },
     "execution_count": 17,
     "metadata": {},
     "output_type": "execute_result"
    }
   ],
   "source": [
    "entropy(DualN([2/3, 2/9, 1/9]))"
   ]
  },
  {
   "cell_type": "markdown",
   "metadata": {},
   "source": [
    "## propagation of uncertainty using dual numbers\n",
    "Assuming we have independence between variables, the error $\\sigma_f$ of a function $f(x_1,x_2,\\dots)$ can be obtained by calculate\n",
    "$$\n",
    "\\sigma_f = \\sqrt{\\Delta^T \\Delta}\n",
    "$$\n",
    "where $\\Delta = \\nabla f \\odot \\vec{\\sigma}$ and $\\odot$ indicates the elementwise product."
   ]
  },
  {
   "cell_type": "code",
   "execution_count": 18,
   "metadata": {},
   "outputs": [
    {
     "data": {
      "text/plain": [
       "uncert (generic function with 1 method)"
      ]
     },
     "execution_count": 18,
     "metadata": {},
     "output_type": "execute_result"
    }
   ],
   "source": [
    "uncert(f::DualN, σ::Vector{<:Real}) = let\n",
    "    Δ = f.grad .* σ\n",
    "    (val = f.val, err = √(Δ'Δ))\n",
    "end"
   ]
  },
  {
   "cell_type": "markdown",
   "metadata": {},
   "source": [
    "So, as a final example,"
   ]
  },
  {
   "cell_type": "code",
   "execution_count": 19,
   "metadata": {},
   "outputs": [
    {
     "data": {
      "text/plain": [
       "(val = 0.8486855577264172, err = 0.12793392864918046)"
      ]
     },
     "execution_count": 19,
     "metadata": {},
     "output_type": "execute_result"
    }
   ],
   "source": [
    "p = [2/3, 2/9, 1/9]\n",
    "σ = [0.1, 0.12, 0.08]\n",
    "s = entropy(DualN(p))\n",
    "uncert(s, σ)"
   ]
  }
 ],
 "metadata": {
  "kernelspec": {
   "display_name": "Julia 1.5.3",
   "language": "julia",
   "name": "julia-1.5"
  },
  "language_info": {
   "name": "julia",
   "version": ""
  },
  "orig_nbformat": 2
 },
 "nbformat": 4,
 "nbformat_minor": 2
}