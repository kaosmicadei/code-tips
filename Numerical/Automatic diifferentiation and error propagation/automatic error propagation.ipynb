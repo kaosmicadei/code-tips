{
 "metadata": {
  "language_info": {
   "codemirror_mode": {
    "name": "ipython",
    "version": 3
   },
   "file_extension": ".py",
   "mimetype": "text/x-python",
   "name": "python",
   "nbconvert_exporter": "python",
   "pygments_lexer": "ipython3",
   "version": 3
  },
  "orig_nbformat": 2,
  "kernelspec": {
   "name": "julia-1.5",
   "display_name": "Julia 1.5.3",
   "language": "julia"
  }
 },
 "nbformat": 4,
 "nbformat_minor": 2,
 "cells": [
  {
   "cell_type": "code",
   "execution_count": 1,
   "metadata": {},
   "outputs": [],
   "source": [
    "using LinearAlgebra: I, Matrix\n",
    "\n",
    "struct Dual <: Number\n",
    "    val::Real\n",
    "    grad::Vector{Real}\n",
    "end\n",
    "\n",
    "function Dual(vars::Vector{<:Real})\n",
    "    l = length(vars)\n",
    "    id = Matrix(I, l, l)\n",
    "    map(1:l) do j\n",
    "        Dual(vars[j], id[:,j])\n",
    "    end\n",
    "end\n",
    "\n",
    "Base.convert(::Type{Dual}, x::Real) = Dual(x, [zero(x)])\n",
    "Base.promote_rule(::Type{Dual}, ::Type{<:Real}) = Dual\n",
    "\n",
    "Base.:+(f::Dual, g::Dual) = Dual(f.val + g.val, f.grad .+ g.grad)\n",
    "Base.:-(f::Dual, g::Dual) = Dual(f.val - g.val, f.grad .- g.grad)\n",
    "Base.:*(f::Dual, g::Dual) = Dual(f.val * g.val, f.grad .* g.val .+ f.val * g.grad)\n",
    "Base.:/(f::Dual, g::Dual) = Dual(f.val / g.val, (f.grad .* g.val .- f.val .* g.grad) ./ g.val^2)\n",
    "\n",
    "Base.:-(f::Dual) = 0 - f\n",
    "\n",
    "Base.sqrt(f::Dual) = Dual(sqrt(f.val), f.grad ./ sqrt(f.val))\n",
    "Base.log(f::Dual) = Dual(log(f.val), f.grad ./ f.val)\n",
    "Base.conj(f::Dual) = Dual(conj(f.val), conj.(f.grad))"
   ]
  },
  {
   "cell_type": "code",
   "execution_count": 2,
   "metadata": {},
   "outputs": [
    {
     "output_type": "execute_result",
     "data": {
      "text/plain": [
       "Dual(0, Real[-2, -2])"
      ]
     },
     "metadata": {},
     "execution_count": 2
    }
   ],
   "source": [
    "f(x,y) = x^2 - y^2\n",
    "\n",
    "f(Dual([-1,1])...)"
   ]
  },
  {
   "cell_type": "code",
   "execution_count": 3,
   "metadata": {},
   "outputs": [
    {
     "output_type": "execute_result",
     "data": {
      "text/plain": [
       "Dual(0.8486855577264172, Real[-0.5945348918918356, 0.5040773967762742, 1.1972245773362196])"
      ]
     },
     "metadata": {},
     "execution_count": 3
    }
   ],
   "source": [
    "entropy(λ) = -λ'log.(λ)\n",
    "\n",
    "entropy(Dual([2/3, 2/9, 1/9]))"
   ]
  },
  {
   "cell_type": "code",
   "execution_count": 9,
   "metadata": {},
   "outputs": [
    {
     "output_type": "execute_result",
     "data": {
      "text/plain": [
       "uncert (generic function with 1 method)"
      ]
     },
     "metadata": {},
     "execution_count": 9
    }
   ],
   "source": [
    "uncert(f::Dual, σ::Vector{<:Real}) = (val = f.val, err = √sum((f.grad .* σ).^2))"
   ]
  },
  {
   "cell_type": "code",
   "execution_count": 10,
   "metadata": {},
   "outputs": [
    {
     "output_type": "execute_result",
     "data": {
      "text/plain": [
       "(val = 0.8486855577264172, err = 0.12793392864918046)"
      ]
     },
     "metadata": {},
     "execution_count": 10
    }
   ],
   "source": [
    "p = [2/3, 2/9, 1/9]\n",
    "σ = [0.1, 0.12, 0.08]\n",
    "s = entropy(Dual(p))\n",
    "uncert(s, σ)"
   ]
  },
  {
   "cell_type": "code",
   "execution_count": null,
   "metadata": {},
   "outputs": [],
   "source": []
  }
 ]
}